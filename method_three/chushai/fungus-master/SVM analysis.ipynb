{
 "cells": [
  {
   "cell_type": "markdown",
   "metadata": {},
   "source": [
    "# SVM analysis\n",
    "\n",
    "\n",
    "#### Obtaining the features and distance from decision boundaries from image patches and making the predictions."
   ]
  },
  {
   "cell_type": "code",
   "execution_count": null,
   "metadata": {
    "ExecuteTime": {
     "end_time": "2018-08-28T14:12:05.230180Z",
     "start_time": "2018-08-28T14:12:04.910598Z"
    }
   },
   "outputs": [],
   "source": [
    "import os\n",
    "import sys  \n",
    "\n",
    "import numpy as np\n",
    "import pandas as pd\n",
    "import seaborn as sns\n",
    "import torch\n",
    "import tqdm\n",
    "\n",
    "from PIL import Image\n",
    "from matplotlib import gridspec as gridspec\n",
    "from matplotlib import pyplot as plt\n",
    "from sklearn import svm\n",
    "from sklearn.externals import joblib\n",
    "from sklearn.manifold import TSNE\n",
    "from sklearn.pipeline import Pipeline\n",
    "from torch.utils.data import DataLoader\n",
    "\n",
    "from dataset.normalization import denormalize\n",
    "from dataset.normalization import normalize_image\n",
    "from dataset.fungus_dataset import FungusDataset\n",
    "from pipeline.features import extract_features\n",
    "from pipeline.fisher_vector_transformer import FisherVectorTransformer  \n",
    "\n",
    "pipeline = Pipeline(\n",
    "    steps=[\n",
    "        ('fisher_vector', FisherVectorTransformer()),\n",
    "        ('svc', svm.SVC())\n",
    "    ]\n",
    ")\n",
    "\n",
    "pipeline = joblib.load('/home/dawid_rymarczyk/Downloads/best_model_BoW.pkl')"
   ]
  },
  {
   "cell_type": "code",
   "execution_count": null,
   "metadata": {
    "ExecuteTime": {
     "end_time": "2018-08-28T14:12:07.581807Z",
     "start_time": "2018-08-28T14:12:07.578351Z"
    }
   },
   "outputs": [],
   "source": [
    "number_to_fungus_dict = {\n",
    "    0: 'CA',\n",
    "    1: 'CG',\n",
    "    2: 'CL',\n",
    "    3: 'CN',\n",
    "    4: 'CP',\n",
    "    5: 'CT',\n",
    "    6: 'MF',\n",
    "    7: 'SB',\n",
    "    8: 'SC',\n",
    "    9: 'BG',\n",
    "}"
   ]
  },
  {
   "cell_type": "code",
   "execution_count": null,
   "metadata": {
    "ExecuteTime": {
     "end_time": "2018-08-28T14:12:09.205089Z",
     "start_time": "2018-08-28T14:12:09.199724Z"
    }
   },
   "outputs": [],
   "source": [
    "dataset = FungusDataset(\n",
    "        random_crop_size=250,\n",
    "        number_of_bg_slices_per_image=2,\n",
    "        number_of_fg_slices_per_image=8,\n",
    "        pngs_dir='./fungus_data_png/pngs_50p/',\n",
    "        masks_dir='./fungus_data_png/masks_2_3_50p/',\n",
    "        train=False,\n",
    ")\n",
    "\n",
    "loader = DataLoader(\n",
    "    dataset,\n",
    "    batch_size=1,\n",
    "    shuffle=True,\n",
    "    num_workers=1,\n",
    "    pin_memory=True,\n",
    ")"
   ]
  },
  {
   "cell_type": "code",
   "execution_count": null,
   "metadata": {
    "ExecuteTime": {
     "end_time": "2018-08-28T14:12:11.716829Z",
     "start_time": "2018-08-28T14:12:11.713293Z"
    }
   },
   "outputs": [],
   "source": [
    "if torch.cuda.is_available():\n",
    "    device = torch.device('cuda:0')\n",
    "else:\n",
    "    device = torch.device('cpu')"
   ]
  },
  {
   "cell_type": "code",
   "execution_count": null,
   "metadata": {
    "ExecuteTime": {
     "end_time": "2018-08-28T14:25:57.931539Z",
     "start_time": "2018-08-28T14:24:40.709894Z"
    },
    "scrolled": true
   },
   "outputs": [],
   "source": [
    "rows = []\n",
    "imgs = []\n",
    "with torch.no_grad():\n",
    "    feature_matrix = torch.tensor([], dtype=torch.float, device=device)\n",
    "    labels = torch.tensor([], dtype=torch.long)\n",
    "    paths = []\n",
    "    for i, sample in enumerate(tqdm.tqdm(loader)):\n",
    "        X = sample['image'].to(device)\n",
    "        y_true = sample['class']\n",
    "        image_path = sample['image_path']\n",
    "        X_features = extract_features(X, device, None)\n",
    "        feature_matrix = torch.cat((feature_matrix, X_features), dim=0)\n",
    "        labels = torch.cat((labels, y_true), dim=0)\n",
    "        paths.extend(image_path)\n",
    "        fm = feature_matrix.cpu().numpy()\n",
    "\n",
    "    predicted = pipeline.predict(fm)"
   ]
  },
  {
   "cell_type": "markdown",
   "metadata": {},
   "source": [
    "#### Calculating the accuracy per image file"
   ]
  },
  {
   "cell_type": "code",
   "execution_count": null,
   "metadata": {},
   "outputs": [],
   "source": [
    "df = pd.DataFrame(np.asarray([predicted, labels.detach().numpy(), paths]).T, columns=['prediction', 'label', 'name'])\n",
    "\n",
    "names = np.unique(df['name'])\n",
    "\n",
    "file_pred = []\n",
    "file_name = []\n",
    "file_class = []\n",
    "\n",
    "for name in names:\n",
    "    df_name = df[df['name'] == name]\n",
    "    counts = np.bincount(list(df_name.prediction))\n",
    "    file_pred.append(np.argmax(counts))\n",
    "    file_name.append(name)\n",
    "    counts = np.bincount(list(df_name.label))\n",
    "    file_class.append(np.argmax(counts))\n",
    "\n",
    "file_pred = np.asarray(file_pred) \n",
    "file_class = np.asarray(file_class)\n",
    "cls_acc = {}\n",
    "for i in range(9):\n",
    "    cls_acc[i] = np.sum(file_pred[file_class == i] == i) / np.sum(file_class == i)\n",
    "cls_acc, np.sum(file_pred == file_class) / len(file_class)"
   ]
  },
  {
   "cell_type": "markdown",
   "metadata": {},
   "source": [
    "#### Presenting image patches with respect to their distance to the decision boundaries"
   ]
  },
  {
   "cell_type": "code",
   "execution_count": null,
   "metadata": {},
   "outputs": [],
   "source": [
    "def visualize_corr_uncorr(corr, uncorr):\n",
    "    labels = np.asarray(labelki)\n",
    "    labels_0 = np.where(labels==corr)\n",
    "    predicted_0 = np.where(predicted[labels_0] == corr)\n",
    "    predicted_6 = np.where(predicted[labels_0] == uncorr)\n",
    "\n",
    "    rows = []\n",
    "    for idx in range(len(predicted_0[0])):\n",
    "        row = [\n",
    "            labels_0[0][predicted_0[0][idx]],\n",
    "            labels[labels_0[0][predicted_0[0][idx]]],\n",
    "            corr,\n",
    "            distances[labels_0[0][predicted_0[0][idx]], corr],\n",
    "            -distances[labels_0[0][predicted_0[0][idx]], uncorr],\n",
    "        ]\n",
    "        rows.append(row)\n",
    "\n",
    "    for idx in range(len(predicted_6[0])):\n",
    "        row = [\n",
    "            labels_0[0][predicted_6[0][idx]],\n",
    "            labels[labels_0[0][predicted_6[0][idx]]],\n",
    "            uncorr,\n",
    "            -distances[labels_0[0][predicted_6[0][idx]], corr],\n",
    "            distances[labels_0[0][predicted_6[0][idx]], uncorr],\n",
    "        ]\n",
    "        rows.append(row)\n",
    "\n",
    "    df = pd.DataFrame(rows, columns=['idx', 'label', 'predicted', 'dist_0', 'dist_6'])\n",
    "    sorted_df = df.sort_values(by='dist_0')\n",
    "    for i in range(0, len(sorted_df), 1):\n",
    "        plt.figure(figsize=(5, 5))\n",
    "        img  = denormalize(imgs[int(sorted_df.iloc[int(i)]['idx'])].copy().transpose((1, 2, 0))[:, :, :])\n",
    "        plt.imshow(img)\n",
    "        plt.title(\"Decision function: \" + str(np.round(sorted_df.iloc[int(i)]['dist_0'], decimals=3)))\n",
    "        plt.show()"
   ]
  },
  {
   "cell_type": "code",
   "execution_count": null,
   "metadata": {
    "scrolled": true
   },
   "outputs": [],
   "source": [
    "for i in range(9):\n",
    "    for j in range(9):\n",
    "        if i != j:\n",
    "            print(number_to_fungus_dict[i], number_to_fungus_dict[j])\n",
    "            visualize_corr_uncorr(i, j)"
   ]
  },
  {
   "cell_type": "markdown",
   "metadata": {},
   "source": [
    "#### TSNE visualization"
   ]
  },
  {
   "cell_type": "code",
   "execution_count": null,
   "metadata": {},
   "outputs": [],
   "source": [
    "fv = pipeline.best_estimator_.steps[:-1][0][1].transform(fm)\n",
    "fv_embedded = TSNE(n_components=2).fit_transform(fv)\n",
    "fv_df = pd.DataFrame(fv_embedded, columns=['x', 'y'])\n",
    "fv_df['labels'] = labels\n",
    "fv_df['labels'] = fv_df['labels'].apply(lambda x: FungusDataset.NUMBER_TO_FUNGUS[x])\n",
    "plt.figure(figsize=(15, 15))\n",
    "sns.scatterplot(data=fv_df, x='x', y='y', hue='labels', legend=\"full\", hue_order=['CA', 'CG', 'CL', 'CP', 'CT', 'CN', 'MF', 'SB', 'SC', 'BG'])\n",
    "plt.title('TSNE visualization of fungus representation from Fisher Vector')\n",
    "plt.show()"
   ]
  },
  {
   "cell_type": "markdown",
   "metadata": {},
   "source": [
    "#### Making the classifier certainty image visualizations"
   ]
  },
  {
   "cell_type": "code",
   "execution_count": null,
   "metadata": {},
   "outputs": [],
   "source": [
    "distances = pd.DataFrame(np.abs(distances), columns=['CA', 'CG', 'CL', 'CN', 'CP', 'CT', 'MF', 'SB', 'SC', 'BG'])\n",
    "distances['labels'] = labels\n",
    "distances = distances[distances['labels'] != 9]"
   ]
  },
  {
   "cell_type": "code",
   "execution_count": null,
   "metadata": {
    "scrolled": false
   },
   "outputs": [],
   "source": [
    "plt.figure(figsize = (25, 15))\n",
    "gs1 = gridspec.GridSpec(9, 16)\n",
    "gs1.update(wspace=0.025, hspace=0.1) # set the spacing between axes. \n",
    "\n",
    "fc = ['CA', 'CG', 'CL', 'CN', 'CP', 'CT', 'MF', 'SB', 'SC']\n",
    "\n",
    "for fc_idx in range(len(fc)):\n",
    "    fungus_class = fc[fc_idx]\n",
    "    sorted_dist = distances.sort_values(by=fungus_class)\n",
    "    idx = 0\n",
    "    for i, gs in zip(range(0, len(sorted_dist), len(sorted_dist) // 16), range(0, 16)):\n",
    "        fung = sorted_dist.iloc[i+1]\n",
    "        fung_idx = fung.name\n",
    "        ax = plt.subplot(gs1[16 * fc_idx + gs])\n",
    "        ax.axis('off')\n",
    "        ax.imshow(denormalize(imgs[fung_idx].copy().transpose(1, 2, 0)))\n",
    "        idx += 1 \n",
    "        if idx == 16:\n",
    "            break\n",
    "plt.savefig('./results/svm_analysis.png')"
   ]
  }
 ],
 "metadata": {
  "kernelspec": {
   "display_name": "Python 3",
   "language": "python",
   "name": "python3"
  },
  "language_info": {
   "codemirror_mode": {
    "name": "ipython",
    "version": 3
   },
   "file_extension": ".py",
   "mimetype": "text/x-python",
   "name": "python",
   "nbconvert_exporter": "python",
   "pygments_lexer": "ipython3",
   "version": "3.6.5"
  },
  "toc": {
   "colors": {
    "hover_highlight": "#DAA520",
    "navigate_num": "#000000",
    "navigate_text": "#333333",
    "running_highlight": "#FF0000",
    "selected_highlight": "#FFD700",
    "sidebar_border": "#EEEEEE",
    "wrapper_background": "#FFFFFF"
   },
   "moveMenuLeft": true,
   "nav_menu": {
    "height": "4px",
    "width": "254px"
   },
   "navigate_menu": true,
   "number_sections": true,
   "sideBar": true,
   "skip_h1_title": true,
   "threshold": 4,
   "toc_cell": true,
   "toc_section_display": "block",
   "toc_window_display": true,
   "widenNotebook": false
  },
  "varInspector": {
   "cols": {
    "lenName": 16,
    "lenType": 16,
    "lenVar": 40
   },
   "kernels_config": {
    "python": {
     "delete_cmd_postfix": "",
     "delete_cmd_prefix": "del ",
     "library": "var_list.py",
     "varRefreshCmd": "print(var_dic_list())"
    },
    "r": {
     "delete_cmd_postfix": ") ",
     "delete_cmd_prefix": "rm(",
     "library": "var_list.r",
     "varRefreshCmd": "cat(var_dic_list()) "
    }
   },
   "types_to_exclude": [
    "module",
    "function",
    "builtin_function_or_method",
    "instance",
    "_Feature"
   ],
   "window_display": false
  }
 },
 "nbformat": 4,
 "nbformat_minor": 1
}
